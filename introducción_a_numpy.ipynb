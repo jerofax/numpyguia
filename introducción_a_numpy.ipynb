{
  "nbformat": 4,
  "nbformat_minor": 0,
  "metadata": {
    "colab": {
      "provenance": [],
      "collapsed_sections": [
        "BiFVvhMTTgqV",
        "Os0tek-Pu2Zu",
        "CcP9BU2qu6WN",
        "VC36Xoofu8jU",
        "dkicQcByvWKf",
        "VnRTLCfEvnBk",
        "Ud-ej4S31KGM"
      ],
      "authorship_tag": "ABX9TyOMf8+iuaEx4SBNkOUuSJhn",
      "include_colab_link": true
    },
    "kernelspec": {
      "name": "python3",
      "display_name": "Python 3"
    },
    "language_info": {
      "name": "python"
    }
  },
  "cells": [
    {
      "cell_type": "markdown",
      "metadata": {
        "id": "view-in-github",
        "colab_type": "text"
      },
      "source": [
        "<a href=\"https://colab.research.google.com/github/jerofax/numpyguia/blob/main/introducci%C3%B3n_a_numpy.ipynb\" target=\"_parent\"><img src=\"https://colab.research.google.com/assets/colab-badge.svg\" alt=\"Open In Colab\"/></a>"
      ]
    },
    {
      "cell_type": "markdown",
      "source": [
        "# Libreria"
      ],
      "metadata": {
        "id": "BiFVvhMTTgqV"
      }
    },
    {
      "cell_type": "code",
      "execution_count": null,
      "metadata": {
        "id": "BAYNgXqkSmh4"
      },
      "outputs": [],
      "source": [
        "import numpy as np"
      ]
    },
    {
      "cell_type": "markdown",
      "source": [
        "## Lista"
      ],
      "metadata": {
        "id": "Os0tek-Pu2Zu"
      }
    },
    {
      "cell_type": "code",
      "source": [
        "l = [0,1,2,3,4,5,6,7,8,9]\n",
        "l"
      ],
      "metadata": {
        "colab": {
          "base_uri": "https://localhost:8080/"
        },
        "id": "M4aZt5GTSuyr",
        "outputId": "0ecb4b9e-b829-4034-d5de-763ba30afab5"
      },
      "execution_count": null,
      "outputs": [
        {
          "output_type": "execute_result",
          "data": {
            "text/plain": [
              "[0, 1, 2, 3, 4, 5, 6, 7, 8, 9]"
            ]
          },
          "metadata": {},
          "execution_count": 30
        }
      ]
    },
    {
      "cell_type": "markdown",
      "source": [
        "#Array"
      ],
      "metadata": {
        "id": "CcP9BU2qu6WN"
      }
    },
    {
      "cell_type": "code",
      "source": [
        "arr=np.array(l)\n",
        "arr"
      ],
      "metadata": {
        "colab": {
          "base_uri": "https://localhost:8080/"
        },
        "id": "KkiOYguOTCg6",
        "outputId": "4a0debe5-ccad-46da-f011-7ac0b8e1ead8"
      },
      "execution_count": null,
      "outputs": [
        {
          "output_type": "execute_result",
          "data": {
            "text/plain": [
              "array([0, 1, 2, 3, 4, 5, 6, 7, 8, 9])"
            ]
          },
          "metadata": {},
          "execution_count": 31
        }
      ]
    },
    {
      "cell_type": "code",
      "source": [
        "arr[1]"
      ],
      "metadata": {
        "colab": {
          "base_uri": "https://localhost:8080/"
        },
        "id": "blfHRg2uV0-o",
        "outputId": "87401ca4-af3c-48a7-afa0-d3c9ed0e68e3"
      },
      "execution_count": null,
      "outputs": [
        {
          "output_type": "execute_result",
          "data": {
            "text/plain": [
              "1"
            ]
          },
          "metadata": {},
          "execution_count": 4
        }
      ]
    },
    {
      "cell_type": "code",
      "source": [
        "arr[3:]"
      ],
      "metadata": {
        "colab": {
          "base_uri": "https://localhost:8080/"
        },
        "id": "ehrdH1y-V-96",
        "outputId": "ac6fafe3-9a20-4012-d35e-808b44ad7061"
      },
      "execution_count": null,
      "outputs": [
        {
          "output_type": "execute_result",
          "data": {
            "text/plain": [
              "array([3, 4, 5, 6, 7, 8, 9])"
            ]
          },
          "metadata": {},
          "execution_count": 5
        }
      ]
    },
    {
      "cell_type": "code",
      "source": [
        "arr[2:4]"
      ],
      "metadata": {
        "colab": {
          "base_uri": "https://localhost:8080/"
        },
        "id": "owQcadXIWTKA",
        "outputId": "24de214d-267c-4aec-bd64-7868d585ea58"
      },
      "execution_count": null,
      "outputs": [
        {
          "output_type": "execute_result",
          "data": {
            "text/plain": [
              "array([2, 3])"
            ]
          },
          "metadata": {},
          "execution_count": 6
        }
      ]
    },
    {
      "cell_type": "code",
      "source": [
        "arr[-3:]"
      ],
      "metadata": {
        "colab": {
          "base_uri": "https://localhost:8080/"
        },
        "id": "p2xAQOLJWF15",
        "outputId": "8fa10c8f-7dfd-42bc-b34a-5afaea104108"
      },
      "execution_count": null,
      "outputs": [
        {
          "output_type": "execute_result",
          "data": {
            "text/plain": [
              "array([7, 8, 9])"
            ]
          },
          "metadata": {},
          "execution_count": 7
        }
      ]
    },
    {
      "cell_type": "markdown",
      "source": [
        "#Matriz"
      ],
      "metadata": {
        "id": "VC36Xoofu8jU"
      }
    },
    {
      "cell_type": "code",
      "source": [
        "M=[(0,1,2),(3,4,5),(6,7,8)]\n",
        "M=np.array(M)\n",
        "M"
      ],
      "metadata": {
        "colab": {
          "base_uri": "https://localhost:8080/"
        },
        "id": "tjGOgpgqUURx",
        "outputId": "d83242b9-f728-40fc-885e-17458a1c8d01"
      },
      "execution_count": null,
      "outputs": [
        {
          "output_type": "execute_result",
          "data": {
            "text/plain": [
              "array([[0, 1, 2],\n",
              "       [3, 4, 5],\n",
              "       [6, 7, 8]])"
            ]
          },
          "metadata": {},
          "execution_count": 8
        }
      ]
    },
    {
      "cell_type": "code",
      "source": [
        "M[0,1]"
      ],
      "metadata": {
        "colab": {
          "base_uri": "https://localhost:8080/"
        },
        "id": "e0FLdjS3WanR",
        "outputId": "f4402a08-4c74-4d20-efc3-fdc490b005fa"
      },
      "execution_count": null,
      "outputs": [
        {
          "output_type": "execute_result",
          "data": {
            "text/plain": [
              "1"
            ]
          },
          "metadata": {},
          "execution_count": 9
        }
      ]
    },
    {
      "cell_type": "code",
      "source": [
        "M[0,0]+M[2,2]"
      ],
      "metadata": {
        "colab": {
          "base_uri": "https://localhost:8080/"
        },
        "id": "JEx8H5NqWmzT",
        "outputId": "07d0ad23-2424-4bf0-e573-48cb33a87a85"
      },
      "execution_count": null,
      "outputs": [
        {
          "output_type": "execute_result",
          "data": {
            "text/plain": [
              "8"
            ]
          },
          "metadata": {},
          "execution_count": 10
        }
      ]
    },
    {
      "cell_type": "markdown",
      "source": [
        "#Matriz tridimensional"
      ],
      "metadata": {
        "id": "dkicQcByvWKf"
      }
    },
    {
      "cell_type": "code",
      "source": [
        "Matrix=[(11,22,33),(44,55,66),(77,88,99)]\n",
        "Triz=[(M,Matrix)]\n",
        "Triz=np.array(Triz)\n",
        "Triz"
      ],
      "metadata": {
        "colab": {
          "base_uri": "https://localhost:8080/"
        },
        "id": "pqCxOXS7vfLW",
        "outputId": "c77b49f4-2b3c-410c-bdae-cc06a165114d"
      },
      "execution_count": null,
      "outputs": [
        {
          "output_type": "execute_result",
          "data": {
            "text/plain": [
              "array([[[[ 0,  1,  2],\n",
              "         [ 3,  4,  5],\n",
              "         [ 6,  7,  8]],\n",
              "\n",
              "        [[11, 22, 33],\n",
              "         [44, 55, 66],\n",
              "         [77, 88, 99]]]])"
            ]
          },
          "metadata": {},
          "execution_count": 11
        },
        {
          "output_type": "execute_result",
          "data": {
            "text/plain": [
              "array([[[[ 0,  1,  2],\n",
              "         [ 3,  4,  5],\n",
              "         [ 6,  7,  8]],\n",
              "\n",
              "        [[11, 22, 33],\n",
              "         [44, 55, 66],\n",
              "         [77, 88, 99]]]])"
            ]
          },
          "metadata": {},
          "execution_count": 12
        }
      ]
    },
    {
      "cell_type": "markdown",
      "source": [
        "# Ejercicio"
      ],
      "metadata": {
        "id": "VnRTLCfEvnBk"
      }
    },
    {
      "cell_type": "code",
      "source": [
        "import random"
      ],
      "metadata": {
        "id": "Vtuehn9aXE6L"
      },
      "execution_count": null,
      "outputs": []
    },
    {
      "cell_type": "code",
      "source": [
        "n=int(input())\n",
        "m=[[random.randint(1,100)for i in range(n)]for j in range(n)]\n",
        "m=np.array(m)\n",
        "m"
      ],
      "metadata": {
        "colab": {
          "base_uri": "https://localhost:8080/"
        },
        "id": "pMEqvUWWXUYJ",
        "outputId": "f4a67eda-ce07-4bd7-ea37-c76c830d0009"
      },
      "execution_count": null,
      "outputs": [
        {
          "name": "stdout",
          "output_type": "stream",
          "text": [
            "3\n"
          ]
        },
        {
          "output_type": "execute_result",
          "data": {
            "text/plain": [
              "array([[44, 33, 82],\n",
              "       [14, 30, 84],\n",
              "       [91, 66, 90]])"
            ]
          },
          "metadata": {},
          "execution_count": 43
        }
      ]
    },
    {
      "cell_type": "markdown",
      "source": [
        "# Parte 2"
      ],
      "metadata": {
        "id": "ssuJ1UpKq4En"
      }
    },
    {
      "cell_type": "code",
      "source": [
        "arr.dtype"
      ],
      "metadata": {
        "id": "_8wa2-heZP0I",
        "colab": {
          "base_uri": "https://localhost:8080/"
        },
        "outputId": "422879fa-4095-4a50-a4ed-96c0d04ef5c7"
      },
      "execution_count": null,
      "outputs": [
        {
          "output_type": "execute_result",
          "data": {
            "text/plain": [
              "dtype('int64')"
            ]
          },
          "metadata": {},
          "execution_count": 13
        }
      ]
    },
    {
      "cell_type": "markdown",
      "source": [
        "# Cambio de tipo de datos"
      ],
      "metadata": {
        "id": "dLrxezV2yN-s"
      }
    },
    {
      "cell_type": "code",
      "source": [
        "flot=np.array([1,2,3,4,5], dtype=\"float64\")\n",
        "print(flot)\n",
        "print(flot.dtype)\n",
        "bolean=arr.astype(np.bool_)\n",
        "print(bolean)\n",
        "print(bolean.dtype)\n",
        "string=arr.astype(np.string_)\n",
        "print(string)\n",
        "print(string.dtype)"
      ],
      "metadata": {
        "colab": {
          "base_uri": "https://localhost:8080/"
        },
        "id": "U4leETxov-uM",
        "outputId": "7b2434b8-7c2d-47e7-a441-679e6baa894a"
      },
      "execution_count": null,
      "outputs": [
        {
          "output_type": "stream",
          "name": "stdout",
          "text": [
            "[1. 2. 3. 4. 5.]\n",
            "float64\n",
            "[False  True  True  True  True  True  True  True  True  True]\n",
            "bool\n",
            "[b'0' b'1' b'2' b'3' b'4' b'5' b'6' b'7' b'8' b'9']\n",
            "|S21\n"
          ]
        }
      ]
    },
    {
      "cell_type": "markdown",
      "source": [
        "# Herramientas"
      ],
      "metadata": {
        "id": "SEMLF-QyywUk"
      }
    },
    {
      "cell_type": "markdown",
      "source": [
        "# Vector\n"
      ],
      "metadata": {
        "id": "Ud-ej4S31KGM"
      }
    },
    {
      "cell_type": "code",
      "source": [
        "tamano=np.shape(arr)\n",
        "print(\"tamaño del vector: \", tamano)\n",
        "\n",
        "maximo=np.max(arr)\n",
        "print(\"dato maximo del vector: \", maximo)\n",
        "\n",
        "minimo=np.min(arr)\n",
        "print(\"dato minimo del vector: \", minimo)\n",
        "\n",
        "media=np.mean(arr)\n",
        "print(\"media del vector: \", media)\n",
        "\n",
        "desviacion=np.std(arr)\n",
        "print(\"desviacion del vector: \", desviacion)\n",
        "\n",
        "arr_normalizado = (arr - media)/desviacion\n",
        "print(\"vector normalizado: \",arr_normalizado)\n",
        "\n",
        "suma= np.sum(arr)\n",
        "print(\"suma de datos: \", suma)\n",
        "\n",
        "producto=np.prod(arr)\n",
        "print(\"producto de los datos: \", producto)\n",
        "\n",
        "\n",
        "array_random=np.random.randint(10,99,size=(1,5))\n",
        "print(array_random)"
      ],
      "metadata": {
        "colab": {
          "base_uri": "https://localhost:8080/"
        },
        "id": "K4XAJam_yyNg",
        "outputId": "6922c34c-8c5e-4b86-9927-6280a9f2ab76"
      },
      "execution_count": null,
      "outputs": [
        {
          "output_type": "stream",
          "name": "stdout",
          "text": [
            "tamaño del vector:  (10,)\n",
            "dato maximo del vector:  9\n",
            "dato minimo del vector:  0\n",
            "media del vector:  4.5\n",
            "desviacion del vector:  2.8722813232690143\n",
            "vector normalizado:  [-1.5666989  -1.21854359 -0.87038828 -0.52223297 -0.17407766  0.17407766\n",
            "  0.52223297  0.87038828  1.21854359  1.5666989 ]\n",
            "suma de datos:  45\n",
            "producto de los datos:  0\n",
            "[[43 28 12 44 43]]\n"
          ]
        }
      ]
    },
    {
      "cell_type": "markdown",
      "source": [
        "#Matriz"
      ],
      "metadata": {
        "id": "eACEfOkc1NL7"
      }
    },
    {
      "cell_type": "code",
      "source": [
        "tamano=np.shape(M)\n",
        "print(\"tamaño de la matriz: \", tamano)\n",
        "\n",
        "maximo=np.max(M)\n",
        "print(\"dato maximo de la matrizr: \", maximo)\n",
        "\n",
        "minimo=np.min(M)\n",
        "print(\"dato minimo de la matriz: \", minimo)\n",
        "\n",
        "media=np.mean(M)\n",
        "print(\"media de la matriz: \", media)\n",
        "\n",
        "desviacion=np.std(M)\n",
        "print(\"desviacion de la matriz: \", desviacion)\n",
        "\n",
        "arr_normalizado = (M - media)/desviacion\n",
        "print(\"matriz normalizado: \",arr_normalizado)\n",
        "\n",
        "suma= np.sum(M, axis=0)\n",
        "print(\"suma de datos: \", suma)\n",
        "\n",
        "producto=np.prod(M, axis=1)\n",
        "print(\"producto de los datos: \", producto)\n",
        "\n",
        "\n",
        "matriz_random=np.random.randint(-10,10,size=(5, 5))\n",
        "print(matriz_random)"
      ],
      "metadata": {
        "colab": {
          "base_uri": "https://localhost:8080/"
        },
        "id": "meU9qcOU1l1o",
        "outputId": "b09b6796-eafd-4d6d-ffb4-dd75bd7fc860"
      },
      "execution_count": null,
      "outputs": [
        {
          "output_type": "stream",
          "name": "stdout",
          "text": [
            "tamaño de la matriz:  (3, 3)\n",
            "dato maximo de la matrizr:  8\n",
            "dato minimo de la matriz:  0\n",
            "media de la matriz:  4.0\n",
            "desviacion de la matriz:  2.581988897471611\n",
            "matriz normalizado:  [[-1.54919334 -1.161895   -0.77459667]\n",
            " [-0.38729833  0.          0.38729833]\n",
            " [ 0.77459667  1.161895    1.54919334]]\n",
            "suma de datos:  [ 9 12 15]\n",
            "producto de los datos:  [  0  60 336]\n",
            "[[  5  -8   7  -4   4]\n",
            " [  8   9  -5  -4   8]\n",
            " [  1  -1  -1  -9   2]\n",
            " [ -8   3   9  -1 -10]\n",
            " [  2   1 -10  -9   2]]\n"
          ]
        }
      ]
    }
  ]
}